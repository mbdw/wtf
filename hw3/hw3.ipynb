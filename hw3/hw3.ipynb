{
 "cells": [
  {
   "cell_type": "markdown",
   "metadata": {},
   "source": [
    "## 作業三\n",
    "這次的作業很難，但可以有效的鍛鍊你們使用for, ifelse，試試看吧! <br>\n",
    "不會寫可以參考 ans3.ipynb，雖然註解是英文，但是跟這份的中文一樣，我只是翻譯一下而已，順便鍛鍊一下英文...?"
   ]
  },
  {
   "cell_type": "code",
   "execution_count": 6,
   "metadata": {},
   "outputs": [
    {
     "name": "stdout",
     "output_type": "stream",
     "text": [
      "['9', '9', '7', '9', '9', '9']\n",
      "['7', '7', '6', '8', '9', '9']\n",
      "['5', '6', '5', '6', '8', '8']\n",
      "['1', '5', '1', '4', '1', '1']\n",
      "['2', '1', '4', '1', '1', '1']\n",
      "['1', '4', '1', '3', '1', '1']\n",
      "['1', '1', '2', '1', '3', '1']\n",
      "['1', '2', '1', '1', '1', '3']\n"
     ]
    }
   ],
   "source": [
    "# 讀入資料已經幫你們寫好了\n",
    "\n",
    "file_name = \"candy_input.txt\"\n",
    "myfile = open(file_name, \"r\")\n",
    "\n",
    "candy_1 = []\n",
    "for line in myfile:\n",
    "    candy_1.append(line.strip())\n",
    "myfile.close()\n",
    "\n",
    "for i in range(len(candy_1)):\n",
    "    candy_1[i] = candy_1[i].split(',')\n",
    "\n",
    "# 檢查有沒有成功讀入\n",
    "for i in range(len(candy_1)):\n",
    "    print(candy_1[i])"
   ]
  },
  {
   "cell_type": "code",
   "execution_count": 3,
   "metadata": {},
   "outputs": [
    {
     "data": {
      "text/plain": [
       "[['9', '9', '7', '9', '9', '9'],\n",
       " ['7', '7', '6', '8', '9', '9'],\n",
       " ['5', '6', '5', '6', '8', '8'],\n",
       " ['1', '5', '1', '4', '1', '1'],\n",
       " ['2', '1', '4', '1', '1', '1'],\n",
       " ['1', '4', '1', '3', '1', '1'],\n",
       " ['1', '1', '2', '1', '3', '1'],\n",
       " ['1', '2', '1', '1', '1', '3']]"
      ]
     },
     "execution_count": 3,
     "metadata": {},
     "output_type": "execute_result"
    }
   ],
   "source": [
    "candy_1"
   ]
  },
  {
   "cell_type": "markdown",
   "metadata": {},
   "source": [
    "## 思維\n",
    "首先想想 candy crush遊戲是如何進行的呢?\n",
    "+ 若是橫向三個(以上)，或者直向三個(以上)相同，便相消\n",
    "+ 消完之後要是頭上有糖果，便下墜\n",
    "+ 重複上述兩步直到停止\n",
    "\n",
    "我們這次簡單點，橫向直向只要三個相同就相消，不考慮四個五個，所以該怎麼做呢？\n",
    "\n",
    "+ 我們將無法再消除或掉落糖果的版面稱作「穩定」\n",
    "+ 檢查橫向有無三個相同的\n",
    "+ 1. 若有，則消除 (補0)\n",
    "+ 2. 若無，則無動作\n",
    "+ 檢查直向有無三個相同的，並與橫向做一樣動作\n",
    "+ 別忘記每一次都得「重置」你的紀錄\n",
    "\n",
    "上面的做法已經找完有無三個相同的，且消除，但我們還沒有做一個動作，便是「確認被削除的糖果頭上有沒有糖果，若是有，要讓他掉下來」\n",
    "\n",
    "+ 找到版面中為0 (已經被消除)的位置\n",
    "+ 檢查他頭上所有列有無非0 (還有沒被削除的糖果) 的位置\n",
    "+ 1. 若是有，則將他往下拉一格\n",
    "+ 2. 若是無，則無動作\n",
    "+ 注意，該糖果可能被往下拉一格依舊下面還有已經被削除的位置，所以必須重複這個動作直到沒得再掉為止\n",
    "\n",
    "這樣我們就完成一次相消掉落的工作了，但這個版面很有可能一次不夠，要n次，所以你要做到這個版面穩定為止 <br>\n",
    "你們要做的題目有兩處\n",
    "1. 橫向檢查已經幫你們寫好了，試試看直向\n",
    "2. 試著想想怎麼寫掉落糖果"
   ]
  },
  {
   "cell_type": "code",
   "execution_count": 7,
   "metadata": {},
   "outputs": [
    {
     "ename": "IndentationError",
     "evalue": "unexpected indent (<ipython-input-7-88d6a4dd62bb>, line 45)",
     "output_type": "error",
     "traceback": [
      "\u001b[1;36m  File \u001b[1;32m\"<ipython-input-7-88d6a4dd62bb>\"\u001b[1;36m, line \u001b[1;32m45\u001b[0m\n\u001b[1;33m    if hori_move == 0 and vert_move == 0:\u001b[0m\n\u001b[1;37m    ^\u001b[0m\n\u001b[1;31mIndentationError\u001b[0m\u001b[1;31m:\u001b[0m unexpected indent\n"
     ]
    }
   ],
   "source": [
    "# 我們利用while來讓這個迴圈做n次，直到版面為止 (break)\n",
    "while 1:\n",
    "    # 利用 hori_move與vert_move來記錄是否曾經有過橫向直向消除\n",
    "    # 利用 lined_x 與 lined_y 來記錄必須被削除的位置\n",
    "    hori_move = 0\n",
    "    vert_move = 0\n",
    "    lined_x = []\n",
    "    lined_y = []\n",
    "\n",
    "# 橫向檢查\n",
    "# 如果找到有三個橫向相同的號碼\n",
    "# 則將他們的 x  y 座標儲存於 lined_x 與 lined_y 之中\n",
    "# 並將 hori_move 設為 1 表示我找到橫向有消除，版面是不穩定的\n",
    "# 此處給你們程式碼做參考\n",
    "    for i in range(len(candy_1)):\n",
    "        for j in range(len(candy_1[1])-2):\n",
    "            if candy_1[i][j] != 0:\n",
    "                if candy_1[i][j] == candy_1[i][j+1] == candy_1[i][j+2]:\n",
    "                    lined_x.append(j)\n",
    "                    lined_x.append(j+1)\n",
    "                    lined_x.append(j+2)\n",
    "                    lined_y.extend((i,i,i))\n",
    "                    hori_move = 1\n",
    "    for i in range(len(candy_1)):\n",
    "        for k in range(len(candy_1[1])-2):\n",
    "            if candy_1[i][k] != 0:\n",
    "                if candy_1[i][k] == candy_1[i][k+1] == candy_1[i][k+2]:\n",
    "                    lined_y.append(k)\n",
    "                    lined_y.append(k+1)\n",
    "                    lined_y.append(k+2)\n",
    "                    lined_x.extend((i,i,i))\n",
    "                    hori_move = 1                    \n",
    "'''                    \n",
    "直向檢查\n",
    "思維同上，注意紀錄直向有無消除的變數為 vert_move\n",
    "自己寫寫看吧 !\n",
    "'''\n",
    "# ---\n",
    "#   將你的程式碼寫在這\n",
    "# ---\n",
    "\n",
    "# 若 hori_move 與 vert_move 皆為 0\n",
    "# 表橫向直向都沒有需要消除的糖果\n",
    "# 表這個版面已經穩定了，可以跳出迴圈 (使用 break)\n",
    "    if hori_move == 0 and vert_move == 0:\n",
    "        break\n",
    "\n",
    "# 若是上面的條件式沒有觸發，代表我們有糖果要消除\n",
    "# 我們已經將要消除糖果的座標存在 lined_y 跟 lined_x 了\n",
    "# 所以要做的只是將 candy_1 中包含這些座標的值令為0即可\n",
    "    for k in range(len(lined_x)):\n",
    "        candy_1[lined_y[k]][lined_x[k]] = 0\n",
    "        \n",
    "'''\n",
    "檢查有無 0 (被削除的糖果) 在 數字 (未削除的糖果) 下面\n",
    "若有，則將該糖果往下移一格，並將原先 數字(未消除的糖果) 所在位置補 0\n",
    "圖示：\n",
    "  0 9 0    0 0 0\n",
    "  0 0 0 -> 0 9 0\n",
    "  0 1 0    0 1 0\n",
    "重複這個動作直到所有 數字(未消除的糖果) 都到了版面底部\n",
    "或者它底下沒有 0(被削除的糖果)\n",
    "'''\n",
    " for i in range(len(candy_1[1])):\n",
    "        for j in range(len(candy_1)):\n",
    "            if candy_1[j][i] == 0:\n",
    "                for k in range(0,j,1):\n",
    "                    if(k < j):\n",
    "                        candy_1[j-k][i] = candy_1[j-k-1][i]\n",
    "                candy_1[0][i] = 0;\n",
    "\n",
    "\n",
    "\n",
    "\n",
    "\n",
    "\n",
    "\n",
    "# ---\n",
    "#  將你的程式碼寫在這\n",
    "# ---"
   ]
  },
  {
   "cell_type": "code",
   "execution_count": 8,
   "metadata": {},
   "outputs": [
    {
     "name": "stdout",
     "output_type": "stream",
     "text": [
      "['9', '9', '7', '9', '9', '9']\n",
      "['7', '7', '6', '8', '9', '9']\n",
      "['5', '6', '5', '6', '8', '8']\n",
      "['1', '5', '1', '4', '1', '1']\n",
      "['2', '1', '4', '1', '1', '1']\n",
      "['1', '4', '1', '3', '1', '1']\n",
      "['1', '1', '2', '1', '3', '1']\n",
      "['1', '2', '1', '1', '1', '3']\n"
     ]
    }
   ],
   "source": [
    "# 將 candy_1給print出來看答案對不對\n",
    "for i in range(len(candy_1)):\n",
    "    print(candy_1[i])"
   ]
  },
  {
   "cell_type": "code",
   "execution_count": 9,
   "metadata": {},
   "outputs": [
    {
     "data": {
      "text/plain": [
       "256"
      ]
     },
     "execution_count": 9,
     "metadata": {},
     "output_type": "execute_result"
    }
   ],
   "source": [
    "# 這邊可以將你的答案輸出成 txt 檔\n",
    "f = open('candy_output.txt', 'w', encoding = 'UTF-8') \n",
    "f.write(str(candy_1))"
   ]
  }
 ],
 "metadata": {
  "kernelspec": {
   "display_name": "Python 3",
   "language": "python",
   "name": "python3"
  },
  "language_info": {
   "codemirror_mode": {
    "name": "ipython",
    "version": 3
   },
   "file_extension": ".py",
   "mimetype": "text/x-python",
   "name": "python",
   "nbconvert_exporter": "python",
   "pygments_lexer": "ipython3",
   "version": "3.6.5"
  }
 },
 "nbformat": 4,
 "nbformat_minor": 2
}
