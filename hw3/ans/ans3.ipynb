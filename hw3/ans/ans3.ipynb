{
 "cells": [
  {
   "cell_type": "code",
   "execution_count": 1,
   "metadata": {},
   "outputs": [
    {
     "ename": "FileNotFoundError",
     "evalue": "[Errno 2] No such file or directory: 'candy_input.txt'",
     "output_type": "error",
     "traceback": [
      "\u001b[1;31m---------------------------------------------------------------------------\u001b[0m",
      "\u001b[1;31mFileNotFoundError\u001b[0m                         Traceback (most recent call last)",
      "\u001b[1;32m<ipython-input-1-86e761ae315f>\u001b[0m in \u001b[0;36m<module>\u001b[1;34m()\u001b[0m\n\u001b[0;32m      1\u001b[0m \u001b[0mfile_name\u001b[0m \u001b[1;33m=\u001b[0m \u001b[1;34m\"candy_input.txt\"\u001b[0m\u001b[1;33m\u001b[0m\u001b[0m\n\u001b[1;32m----> 2\u001b[1;33m \u001b[0mmyfile\u001b[0m \u001b[1;33m=\u001b[0m \u001b[0mopen\u001b[0m\u001b[1;33m(\u001b[0m\u001b[0mfile_name\u001b[0m\u001b[1;33m,\u001b[0m \u001b[1;34m\"r\"\u001b[0m\u001b[1;33m)\u001b[0m\u001b[1;33m\u001b[0m\u001b[0m\n\u001b[0m\u001b[0;32m      3\u001b[0m \u001b[1;33m\u001b[0m\u001b[0m\n\u001b[0;32m      4\u001b[0m \u001b[0mcandy_1\u001b[0m \u001b[1;33m=\u001b[0m \u001b[1;33m[\u001b[0m\u001b[1;33m]\u001b[0m\u001b[1;33m\u001b[0m\u001b[0m\n\u001b[0;32m      5\u001b[0m \u001b[1;32mfor\u001b[0m \u001b[0mline\u001b[0m \u001b[1;32min\u001b[0m \u001b[0mmyfile\u001b[0m\u001b[1;33m:\u001b[0m\u001b[1;33m\u001b[0m\u001b[0m\n",
      "\u001b[1;31mFileNotFoundError\u001b[0m: [Errno 2] No such file or directory: 'candy_input.txt'"
     ]
    }
   ],
   "source": [
    "file_name = \"candy_input.txt\"\n",
    "myfile = open(file_name, \"r\")\n",
    "\n",
    "candy_1 = []\n",
    "for line in myfile:\n",
    "    candy_1.append(line.strip())\n",
    "myfile.close()\n",
    "\n",
    "for i in range(len(candy_1)):\n",
    "    candy_1[i] = candy_1[i].split(',')\n",
    "\n",
    "#test if the data imported successfully or not\n",
    "for i in range(len(candy_1)):\n",
    "    print(candy_1[i])"
   ]
  },
  {
   "cell_type": "code",
   "execution_count": 2,
   "metadata": {},
   "outputs": [
    {
     "ename": "NameError",
     "evalue": "name 'candy_1' is not defined",
     "output_type": "error",
     "traceback": [
      "\u001b[1;31m---------------------------------------------------------------------------\u001b[0m",
      "\u001b[1;31mNameError\u001b[0m                                 Traceback (most recent call last)",
      "\u001b[1;32m<ipython-input-2-6a6b930b38ce>\u001b[0m in \u001b[0;36m<module>\u001b[1;34m()\u001b[0m\n\u001b[0;32m     12\u001b[0m \u001b[1;31m# store the coordinate in lined_x and lined_y\u001b[0m\u001b[1;33m\u001b[0m\u001b[1;33m\u001b[0m\u001b[0m\n\u001b[0;32m     13\u001b[0m \u001b[1;31m# switch hori_move to 1 if this part has been activated\u001b[0m\u001b[1;33m\u001b[0m\u001b[1;33m\u001b[0m\u001b[0m\n\u001b[1;32m---> 14\u001b[1;33m     \u001b[1;32mfor\u001b[0m \u001b[0mi\u001b[0m \u001b[1;32min\u001b[0m \u001b[0mrange\u001b[0m\u001b[1;33m(\u001b[0m\u001b[0mlen\u001b[0m\u001b[1;33m(\u001b[0m\u001b[0mcandy_1\u001b[0m\u001b[1;33m)\u001b[0m\u001b[1;33m)\u001b[0m\u001b[1;33m:\u001b[0m\u001b[1;33m\u001b[0m\u001b[0m\n\u001b[0m\u001b[0;32m     15\u001b[0m         \u001b[1;32mfor\u001b[0m \u001b[0mj\u001b[0m \u001b[1;32min\u001b[0m \u001b[0mrange\u001b[0m\u001b[1;33m(\u001b[0m\u001b[0mlen\u001b[0m\u001b[1;33m(\u001b[0m\u001b[0mcandy_1\u001b[0m\u001b[1;33m[\u001b[0m\u001b[1;36m1\u001b[0m\u001b[1;33m]\u001b[0m\u001b[1;33m)\u001b[0m\u001b[1;33m-\u001b[0m\u001b[1;36m2\u001b[0m\u001b[1;33m)\u001b[0m\u001b[1;33m:\u001b[0m\u001b[1;33m\u001b[0m\u001b[0m\n\u001b[0;32m     16\u001b[0m             \u001b[1;32mif\u001b[0m \u001b[0mcandy_1\u001b[0m\u001b[1;33m[\u001b[0m\u001b[0mi\u001b[0m\u001b[1;33m]\u001b[0m\u001b[1;33m[\u001b[0m\u001b[0mj\u001b[0m\u001b[1;33m]\u001b[0m \u001b[1;33m!=\u001b[0m \u001b[1;36m0\u001b[0m\u001b[1;33m:\u001b[0m\u001b[1;33m\u001b[0m\u001b[0m\n",
      "\u001b[1;31mNameError\u001b[0m: name 'candy_1' is not defined"
     ]
    }
   ],
   "source": [
    "stable_switch = 0\n",
    "\n",
    "#continue the loop until the board is stable\n",
    "while stable_switch == 0:\n",
    "    hori_move = 0\n",
    "    vert_move = 0\n",
    "    lined_x = []\n",
    "    lined_y = []\n",
    "\n",
    "# horiziontal pair check\n",
    "# if there's at least 3 same numbers lining up horiziointally\n",
    "# store the coordinate in lined_x and lined_y\n",
    "# switch hori_move to 1 if this part has been activated\n",
    "    for i in range(len(candy_1)):\n",
    "        for j in range(len(candy_1[1])-2):\n",
    "            if candy_1[i][j] != 0:\n",
    "                if candy_1[i][j] == candy_1[i][j+1] == candy_1[i][j+2]:\n",
    "                    lined_x.append(j)\n",
    "                    lined_x.append(j+1)\n",
    "                    lined_x.append(j+2)\n",
    "                    lined_y.extend((i,i,i))\n",
    "                    hori_move = 1\n",
    "# vertical pair check\n",
    "# if there's at least 3 same numbers lining up vertically\n",
    "# store the coordinate in lined_x and lined_y\n",
    "# switch vert_move to 1 if this part has been activated\n",
    "    for i in range(len(candy_1)-2):\n",
    "        for j in range(len(candy_1[1])):\n",
    "            if candy_1[i][j] != 0:\n",
    "                if candy_1[i][j] == candy_1[i+1][j] == candy_1[i+2][j]:\n",
    "                    lined_x.extend((j,j,j))\n",
    "                    lined_y.append(i)\n",
    "                    lined_y.append(i+1)\n",
    "                    lined_y.append(i+2)\n",
    "                    vert_move = 1\n",
    "# if both horiziontal pair check and vertical pair check\n",
    "# didn't discover any lined up numbers in the board (both hori_move and vert_move == 0)\n",
    "# then the board is stable\n",
    "# time to stop the loop\n",
    "    if hori_move == 0 and vert_move == 0:\n",
    "        break\n",
    "\n",
    "# set each recorded coordinate in lined_y and lined_x to 0\n",
    "# stands for \"crushed\"\n",
    "    for k in range(len(lined_x)):\n",
    "        candy_1[lined_y[k]][lined_x[k]] = 0\n",
    "\n",
    "# if there's \"crushed\" candy under the \"uncrushed\" candy\n",
    "# level down all the \"uncrushed candy\" in correspond column once\n",
    "# replace 0 at the top of the \"uncrushed\" candy\n",
    "# repeat the move until all the \"uncrushed\" candy reach the bottom of the board\n",
    "# or there's no \"crushed\" candy under it\n",
    "    for i in range(len(candy_1[1])):\n",
    "        for j in range(len(candy_1)):\n",
    "            if candy_1[j][i] == 0:\n",
    "                for k in range(0,j,1):\n",
    "                    if(k < j):\n",
    "                        candy_1[j-k][i] = candy_1[j-k-1][i]\n",
    "                candy_1[0][i] = 0;"
   ]
  },
  {
   "cell_type": "code",
   "execution_count": 3,
   "metadata": {},
   "outputs": [
    {
     "ename": "NameError",
     "evalue": "name 'candy_1' is not defined",
     "output_type": "error",
     "traceback": [
      "\u001b[1;31m---------------------------------------------------------------------------\u001b[0m",
      "\u001b[1;31mNameError\u001b[0m                                 Traceback (most recent call last)",
      "\u001b[1;32m<ipython-input-3-8c899e2b63bb>\u001b[0m in \u001b[0;36m<module>\u001b[1;34m()\u001b[0m\n\u001b[0;32m      1\u001b[0m \u001b[1;31m#test output\u001b[0m\u001b[1;33m\u001b[0m\u001b[1;33m\u001b[0m\u001b[0m\n\u001b[1;32m----> 2\u001b[1;33m \u001b[1;32mfor\u001b[0m \u001b[0mi\u001b[0m \u001b[1;32min\u001b[0m \u001b[0mrange\u001b[0m\u001b[1;33m(\u001b[0m\u001b[0mlen\u001b[0m\u001b[1;33m(\u001b[0m\u001b[0mcandy_1\u001b[0m\u001b[1;33m)\u001b[0m\u001b[1;33m)\u001b[0m\u001b[1;33m:\u001b[0m\u001b[1;33m\u001b[0m\u001b[0m\n\u001b[0m\u001b[0;32m      3\u001b[0m     \u001b[0mprint\u001b[0m\u001b[1;33m(\u001b[0m\u001b[0mcandy_1\u001b[0m\u001b[1;33m[\u001b[0m\u001b[0mi\u001b[0m\u001b[1;33m]\u001b[0m\u001b[1;33m)\u001b[0m\u001b[1;33m\u001b[0m\u001b[0m\n",
      "\u001b[1;31mNameError\u001b[0m: name 'candy_1' is not defined"
     ]
    }
   ],
   "source": [
    "#test output\n",
    "for i in range(len(candy_1)):\n",
    "    print(candy_1[i])"
   ]
  },
  {
   "cell_type": "code",
   "execution_count": 4,
   "metadata": {},
   "outputs": [
    {
     "ename": "NameError",
     "evalue": "name 'candy_1' is not defined",
     "output_type": "error",
     "traceback": [
      "\u001b[1;31m---------------------------------------------------------------------------\u001b[0m",
      "\u001b[1;31mNameError\u001b[0m                                 Traceback (most recent call last)",
      "\u001b[1;32m<ipython-input-4-70af22e855dd>\u001b[0m in \u001b[0;36m<module>\u001b[1;34m()\u001b[0m\n\u001b[0;32m      1\u001b[0m \u001b[1;31m#output the candy_1 file as \"candy_output.txt\"\u001b[0m\u001b[1;33m\u001b[0m\u001b[1;33m\u001b[0m\u001b[0m\n\u001b[0;32m      2\u001b[0m \u001b[0mf\u001b[0m \u001b[1;33m=\u001b[0m \u001b[0mopen\u001b[0m\u001b[1;33m(\u001b[0m\u001b[1;34m'candy_output.txt'\u001b[0m\u001b[1;33m,\u001b[0m \u001b[1;34m'w'\u001b[0m\u001b[1;33m,\u001b[0m \u001b[0mencoding\u001b[0m \u001b[1;33m=\u001b[0m \u001b[1;34m'UTF-8'\u001b[0m\u001b[1;33m)\u001b[0m\u001b[1;33m\u001b[0m\u001b[0m\n\u001b[1;32m----> 3\u001b[1;33m \u001b[0mf\u001b[0m\u001b[1;33m.\u001b[0m\u001b[0mwrite\u001b[0m\u001b[1;33m(\u001b[0m\u001b[0mstr\u001b[0m\u001b[1;33m(\u001b[0m\u001b[0mcandy_1\u001b[0m\u001b[1;33m)\u001b[0m\u001b[1;33m)\u001b[0m\u001b[1;33m\u001b[0m\u001b[0m\n\u001b[0m",
      "\u001b[1;31mNameError\u001b[0m: name 'candy_1' is not defined"
     ]
    }
   ],
   "source": [
    "#output the candy_1 file as \"candy_output.txt\"\n",
    "f = open('candy_output.txt', 'w', encoding = 'UTF-8') \n",
    "f.write(str(candy_1))"
   ]
  }
 ],
 "metadata": {
  "kernelspec": {
   "display_name": "Python 3",
   "language": "python",
   "name": "python3"
  },
  "language_info": {
   "codemirror_mode": {
    "name": "ipython",
    "version": 3
   },
   "file_extension": ".py",
   "mimetype": "text/x-python",
   "name": "python",
   "nbconvert_exporter": "python",
   "pygments_lexer": "ipython3",
   "version": "3.6.5"
  }
 },
 "nbformat": 4,
 "nbformat_minor": 2
}
