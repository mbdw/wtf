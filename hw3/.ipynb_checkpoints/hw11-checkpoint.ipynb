{
 "cells": [
  {
   "cell_type": "markdown",
   "metadata": {},
   "source": [
    "## 作業三\n",
    "這次的作業很難，但可以有效的鍛鍊你們使用for, ifelse，試試看吧!"
   ]
  },
  {
   "cell_type": "code",
   "execution_count": 2,
   "metadata": {},
   "outputs": [
    {
     "name": "stdout",
     "output_type": "stream",
     "text": [
      "['9', '9', '7', '9', '9', '9']\n",
      "['7', '7', '6', '8', '9', '9']\n",
      "['5', '6', '5', '6', '8', '8']\n",
      "['1', '5', '1', '4', '1', '1']\n",
      "['2', '1', '4', '1', '1', '1']\n",
      "['1', '4', '1', '3', '1', '1']\n",
      "['1', '1', '2', '1', '3', '1']\n",
      "['1', '2', '1', '1', '1', '3']\n"
     ]
    }
   ],
   "source": [
    "# 讀入資料已經幫你們寫好了\n",
    "\n",
    "file_name = \"candy_input.txt\"\n",
    "myfile = open(file_name, \"r\")\n",
    "\n",
    "candy_1 = []\n",
    "for line in myfile:\n",
    "    candy_1.append(line.strip())\n",
    "myfile.close()\n",
    "\n",
    "for i in range(len(candy_1)):\n",
    "    candy_1[i] = candy_1[i].split(',')\n",
    "\n",
    "#test if the data imported successfully or not\n",
    "for i in range(len(candy_1)):\n",
    "    print(candy_1[i])"
   ]
  },
  {
   "cell_type": "markdown",
   "metadata": {},
   "source": [
    "## 思維\n",
    "首先想想 candy crush遊戲是如何進行的呢?\n",
    "+ 若是橫向三個(以上)，或者直向三個(以上)相同，便相消\n",
    "+ 消完之後要是頭上有糖果，便下墜\n",
    "+ 重複上述兩步直到停止\n",
    "\n",
    "我們這次簡單點，橫向直向只要三個相同就相消，不考慮四個五個，所以該怎麼做呢？\n",
    "\n",
    "+ 檢查橫向有無三個相同的\n",
    "+ 1. 若有，則\n"
   ]
  },
  {
   "cell_type": "code",
   "execution_count": 3,
   "metadata": {},
   "outputs": [],
   "source": [
    "stable_switch = 0\n",
    "\n",
    "#continue the loop until the board is stable\n",
    "while stable_switch == 0:\n",
    "    hori_move = 0\n",
    "    vert_move = 0\n",
    "    lined_x = []\n",
    "    lined_y = []\n",
    "\n",
    "# horiziontal pair check\n",
    "# if there's at least 3 same numbers lining up horiziointally\n",
    "# store the coordinate in lined_x and lined_y\n",
    "# switch hori_move to 1 if this part has been activated\n",
    "    for i in range(len(candy_1)):\n",
    "        for j in range(len(candy_1[1])-2):\n",
    "            if candy_1[i][j] != 0:\n",
    "                if candy_1[i][j] == candy_1[i][j+1] == candy_1[i][j+2]:\n",
    "                    lined_x.append(j)\n",
    "                    lined_x.append(j+1)\n",
    "                    lined_x.append(j+2)\n",
    "                    lined_y.extend((i,i,i))\n",
    "                    hori_move = 1\n",
    "# vertical pair check\n",
    "# if there's at least 3 same numbers lining up vertically\n",
    "# store the coordinate in lined_x and lined_y\n",
    "# switch vert_move to 1 if this part has been activated\n",
    "    for i in range(len(candy_1)-2):\n",
    "        for j in range(len(candy_1[1])):\n",
    "            if candy_1[i][j] != 0:\n",
    "                if candy_1[i][j] == candy_1[i+1][j] == candy_1[i+2][j]:\n",
    "                    lined_x.extend((j,j,j))\n",
    "                    lined_y.append(i)\n",
    "                    lined_y.append(i+1)\n",
    "                    lined_y.append(i+2)\n",
    "                    vert_move = 1\n",
    "# if both horiziontal pair check and vertical pair check\n",
    "# didn't discover any lined up numbers in the board (both hori_move and vert_move == 0)\n",
    "# then the board is stable\n",
    "# time to stop the loop\n",
    "    if hori_move == 0 and vert_move == 0:\n",
    "        break\n",
    "\n",
    "# set each recorded coordinate in lined_y and lined_x to 0\n",
    "# stands for \"crushed\"\n",
    "    for k in range(len(lined_x)):\n",
    "        candy_1[lined_y[k]][lined_x[k]] = 0\n",
    "\n",
    "# if there's \"crushed\" candy under the \"uncrushed\" candy\n",
    "# level down all the \"uncrushed candy\" in correspond column once\n",
    "# replace 0 at the top of the \"uncrushed\" candy\n",
    "# repeat the move until all the \"uncrushed\" candy reach the bottom of the board\n",
    "# or there's no \"crushed\" candy under it\n",
    "    for i in range(len(candy_1[1])):\n",
    "        for j in range(len(candy_1)):\n",
    "            if candy_1[j][i] == 0:\n",
    "                for k in range(0,j,1):\n",
    "                    if(k < j):\n",
    "                        candy_1[j-k][i] = candy_1[j-k-1][i]\n",
    "                candy_1[0][i] = 0;"
   ]
  },
  {
   "cell_type": "code",
   "execution_count": 4,
   "metadata": {},
   "outputs": [
    {
     "name": "stdout",
     "output_type": "stream",
     "text": [
      "[0, 0, 0, 0, 0, 0]\n",
      "[0, 0, 0, 0, 0, 0]\n",
      "[0, 0, 0, 0, 0, 0]\n",
      "[0, 0, 0, 0, 0, 0]\n",
      "[0, 0, 0, 0, 0, 0]\n",
      "[0, 0, 0, 0, 0, 0]\n",
      "[0, 0, 0, 0, 0, 0]\n",
      "['9', '9', 0, 0, '9', '9']\n"
     ]
    }
   ],
   "source": [
    "#test output\n",
    "for i in range(len(candy_1)):\n",
    "    print(candy_1[i])"
   ]
  },
  {
   "cell_type": "code",
   "execution_count": 8,
   "metadata": {},
   "outputs": [
    {
     "data": {
      "text/plain": [
       "168"
      ]
     },
     "execution_count": 8,
     "metadata": {},
     "output_type": "execute_result"
    }
   ],
   "source": [
    "#output the candy_1 file as \"candy_output.txt\"\n",
    "f = open('candy_output.txt', 'w', encoding = 'UTF-8') \n",
    "f.write(str(candy_1))"
   ]
  }
 ],
 "metadata": {
  "kernelspec": {
   "display_name": "Python 3",
   "language": "python",
   "name": "python3"
  },
  "language_info": {
   "codemirror_mode": {
    "name": "ipython",
    "version": 3
   },
   "file_extension": ".py",
   "mimetype": "text/x-python",
   "name": "python",
   "nbconvert_exporter": "python",
   "pygments_lexer": "ipython3",
   "version": "3.6.5"
  }
 },
 "nbformat": 4,
 "nbformat_minor": 2
}
