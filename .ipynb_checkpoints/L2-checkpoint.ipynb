{
 "cells": [
  {
   "cell_type": "markdown",
   "metadata": {},
   "source": [
    "##  for 迴圈介紹\n",
    "重複執行 n 次 <br>\n",
    "會使用的函數有:\n",
    "1. for\n",
    "2. range\n",
    "3. break\n",
    "4. continue"
   ]
  },
  {
   "cell_type": "markdown",
   "metadata": {},
   "source": [
    "## 注意! python從 0 開始計數  不是 1 !!"
   ]
  },
  {
   "cell_type": "code",
   "execution_count": 7,
   "metadata": {},
   "outputs": [
    {
     "name": "stdout",
     "output_type": "stream",
     "text": [
      "55\n"
     ]
    }
   ],
   "source": [
    "# 我想要 1 + 2 + ... + 10\n",
    "\n",
    "a = 0\n",
    "for i in range(1 , 11, 1):\n",
    "    a += i\n",
    "print(a)"
   ]
  },
  {
   "cell_type": "markdown",
   "metadata": {},
   "source": [
    "range也可以只放單一個數字  表次數"
   ]
  },
  {
   "cell_type": "code",
   "execution_count": 11,
   "metadata": {},
   "outputs": [
    {
     "name": "stdout",
     "output_type": "stream",
     "text": [
      "第 0次\n",
      "第 1次\n",
      "第 2次\n",
      "第 3次\n",
      "第 4次\n",
      "第 5次\n",
      "第 6次\n",
      "第 7次\n",
      "第 8次\n",
      "第 9次\n"
     ]
    }
   ],
   "source": [
    "for i in range(10):\n",
    "    print('第 ' + str(i) + '次')"
   ]
  },
  {
   "cell_type": "code",
   "execution_count": 12,
   "metadata": {},
   "outputs": [
    {
     "name": "stdout",
     "output_type": "stream",
     "text": [
      "第 0次\n",
      "第 1次\n",
      "第 2次\n",
      "第 3次\n",
      "第 4次\n"
     ]
    }
   ],
   "source": [
    "# 如果我只想要跑到第 n 次\n",
    "n = 4\n",
    "for i in range(10):\n",
    "    print('第 ' + str(i) + '次')\n",
    "    \n",
    "    if i == n:\n",
    "        break"
   ]
  },
  {
   "cell_type": "code",
   "execution_count": 14,
   "metadata": {},
   "outputs": [
    {
     "name": "stdout",
     "output_type": "stream",
     "text": [
      "第 0次\n",
      "第 1次\n",
      "第 2次\n",
      "第 3次\n",
      "第 5次\n",
      "第 6次\n",
      "第 7次\n",
      "第 8次\n",
      "第 9次\n"
     ]
    }
   ],
   "source": [
    "# 如果我想要跳過第 n 次\n",
    "n = 4\n",
    "for i in range(10):\n",
    "    if i == n:\n",
    "        continue\n",
    "        \n",
    "    print('第 ' + str(i) + '次')"
   ]
  },
  {
   "cell_type": "markdown",
   "metadata": {},
   "source": [
    "## while迴圈\n",
    "重複執行到 不滿足 條件式為止\n",
    "1. while"
   ]
  },
  {
   "cell_type": "code",
   "execution_count": 1,
   "metadata": {},
   "outputs": [
    {
     "name": "stdout",
     "output_type": "stream",
     "text": [
      "10\n"
     ]
    }
   ],
   "source": [
    "i = 0\n",
    "while i < 10:\n",
    "    i += 1\n",
    "print(i)"
   ]
  },
  {
   "cell_type": "markdown",
   "metadata": {},
   "source": [
    "當你想一直執行到 \"發生某事\" 但又不曉得某事甚麼時候發生時"
   ]
  },
  {
   "cell_type": "code",
   "execution_count": 2,
   "metadata": {},
   "outputs": [
    {
     "name": "stdout",
     "output_type": "stream",
     "text": [
      "3\n",
      "3\n",
      "0\n",
      "0\n",
      "1\n"
     ]
    }
   ],
   "source": [
    "import random\n",
    "\n",
    "while 1:\n",
    "    i = random.randint(0,3)\n",
    "    print(i)\n",
    "    \n",
    "    if i == 1:\n",
    "        break"
   ]
  },
  {
   "cell_type": "code",
   "execution_count": 19,
   "metadata": {},
   "outputs": [
    {
     "name": "stdout",
     "output_type": "stream",
     "text": [
      "2\n",
      "3\n",
      "2\n",
      "3\n",
      "3\n",
      "3\n",
      "0\n",
      "2\n",
      "0\n",
      "0\n",
      "3\n",
      "2\n",
      "3\n",
      "3\n",
      "1\n"
     ]
    }
   ],
   "source": [
    "## 也可以這樣寫\n",
    "i = 0\n",
    "while i != 1:\n",
    "    i = random.randint(0,3)\n",
    "    print(i)"
   ]
  },
  {
   "cell_type": "markdown",
   "metadata": {},
   "source": [
    "## 簡單資料結構\n",
    "1. list\n",
    "2. tuple\n",
    "3. dictionary"
   ]
  },
  {
   "cell_type": "markdown",
   "metadata": {},
   "source": [
    "## list\n",
    "list 是一個\"列\"  只能單向儲存資料 <br>\n",
    "舉個例子 : a = [1,2,3,4] <br>\n",
    "常用的code有 <br>\n",
    "1. append\n",
    "2. extend\n",
    "3. pop\n",
    "4. insert\n",
    "5. index\n",
    "6. sort\n",
    "7. count"
   ]
  },
  {
   "cell_type": "code",
   "execution_count": 34,
   "metadata": {},
   "outputs": [
    {
     "data": {
      "text/plain": [
       "3"
      ]
     },
     "execution_count": 34,
     "metadata": {},
     "output_type": "execute_result"
    }
   ],
   "source": [
    "# 單純呼叫 list 中的值\n",
    "a = [1,2,3,4,5,6,7,8,9]\n",
    "a[2]"
   ]
  },
  {
   "cell_type": "code",
   "execution_count": 21,
   "metadata": {},
   "outputs": [
    {
     "name": "stdout",
     "output_type": "stream",
     "text": [
      "[1, 2, 3, 4]\n"
     ]
    }
   ],
   "source": [
    "# append 插入值\n",
    "a = [1,2,3]\n",
    "a.append(4)\n",
    "print(a)"
   ]
  },
  {
   "cell_type": "code",
   "execution_count": 22,
   "metadata": {},
   "outputs": [
    {
     "name": "stdout",
     "output_type": "stream",
     "text": [
      "[1, 2, 3, 4, 5, 6]\n"
     ]
    }
   ],
   "source": [
    "# extend 擴充list\n",
    "a = [1,2,3]\n",
    "b = [4,5,6]\n",
    "a.extend(b)\n",
    "print(a)"
   ]
  },
  {
   "cell_type": "code",
   "execution_count": 25,
   "metadata": {
    "scrolled": true
   },
   "outputs": [
    {
     "name": "stdout",
     "output_type": "stream",
     "text": [
      "[2, 3]\n",
      "1\n"
     ]
    }
   ],
   "source": [
    "# pop 輸出 list 中第 n 個值 並將此值從 list 中剃除\n",
    "a = [1,2,3]\n",
    "b = a.pop(0)\n",
    "print(a)\n",
    "print(b)"
   ]
  },
  {
   "cell_type": "markdown",
   "metadata": {},
   "source": [
    "你也可以在list中塞list進去 使用append 或者打一開始就如此宣告"
   ]
  },
  {
   "cell_type": "code",
   "execution_count": 26,
   "metadata": {},
   "outputs": [
    {
     "name": "stdout",
     "output_type": "stream",
     "text": [
      "[1, 2, 3, [4, 5, 6]]\n",
      "[1, 2, 3, [4, 5, 6], [7, 8, 9]]\n"
     ]
    }
   ],
   "source": [
    "a = [1,2,3,[4,5,6]]\n",
    "print(a)\n",
    "b = [7,8,9]\n",
    "a.append(b)\n",
    "print(a)"
   ]
  },
  {
   "cell_type": "code",
   "execution_count": 4,
   "metadata": {},
   "outputs": [
    {
     "name": "stdout",
     "output_type": "stream",
     "text": [
      "[1, 2, 3, 555, 4, 5, 6]\n"
     ]
    }
   ],
   "source": [
    "# insert 在指定位置插入值\n",
    "a = [1,2,3,4,5,6]\n",
    "a.insert(3, 555)\n",
    "print(a)"
   ]
  },
  {
   "cell_type": "code",
   "execution_count": 29,
   "metadata": {},
   "outputs": [
    {
     "data": {
      "text/plain": [
       "1"
      ]
     },
     "execution_count": 29,
     "metadata": {},
     "output_type": "execute_result"
    }
   ],
   "source": [
    "# index 找出值的索引\n",
    "a = ['甲','丙','丁','乙']\n",
    "a.index('丙')"
   ]
  },
  {
   "cell_type": "code",
   "execution_count": 32,
   "metadata": {},
   "outputs": [
    {
     "data": {
      "text/plain": [
       "[1, 3, 4, 5, 5, 6, 7, 9, 9]"
      ]
     },
     "execution_count": 32,
     "metadata": {},
     "output_type": "execute_result"
    }
   ],
   "source": [
    "# sort 排序\n",
    "a = [1,5,9,7,5,3,4,9,6]\n",
    "a.sort()\n",
    "a"
   ]
  },
  {
   "cell_type": "code",
   "execution_count": 33,
   "metadata": {},
   "outputs": [
    {
     "data": {
      "text/plain": [
       "7"
      ]
     },
     "execution_count": 33,
     "metadata": {},
     "output_type": "execute_result"
    }
   ],
   "source": [
    "# count 數特定值發生了幾次\n",
    "a = [1,1,1,2,3,4,4,4,8,8,8,9,9,9,9,9,9,9]\n",
    "a.count(9)"
   ]
  },
  {
   "cell_type": "code",
   "execution_count": null,
   "metadata": {},
   "outputs": [],
   "source": [
    "a = [1,2,3,4]\n",
    "讓 a 最後面有 5\n",
    "第 3 的位置插入 999\n",
    "做完上面兩個動作之後\n",
    "輸出 第 5 個值 並從 list中刪除"
   ]
  },
  {
   "cell_type": "markdown",
   "metadata": {},
   "source": [
    "## dict\n",
    "dictionary為字典，由 key 與 value 所組成\n",
    "1. get\n",
    "2. values\n",
    "3. items\n",
    "4. keys"
   ]
  },
  {
   "cell_type": "code",
   "execution_count": 9,
   "metadata": {},
   "outputs": [],
   "source": [
    "# 利用 { } 就可以創建字典\n",
    "a = {'甲':100, '乙':80, '丙':70, '丁':60, '戊':30}"
   ]
  },
  {
   "cell_type": "code",
   "execution_count": 38,
   "metadata": {},
   "outputs": [
    {
     "data": {
      "text/plain": [
       "100"
      ]
     },
     "execution_count": 38,
     "metadata": {},
     "output_type": "execute_result"
    }
   ],
   "source": [
    "# get 輸入 key 得到 value\n",
    "a.get('甲')"
   ]
  },
  {
   "cell_type": "code",
   "execution_count": 41,
   "metadata": {},
   "outputs": [
    {
     "name": "stdout",
     "output_type": "stream",
     "text": [
      "dict_values([100, 80, 70, 60, 30])\n",
      "\n",
      "\n",
      "[100, 80, 70, 60, 30]\n"
     ]
    }
   ],
   "source": [
    "# values 得到字典內所有的 value\n",
    "print(a.values())\n",
    "\n",
    "# 有時為了方便 會轉換成 list 型態比較好處理\n",
    "print('\\n')\n",
    "print(list(a.values()))"
   ]
  },
  {
   "cell_type": "code",
   "execution_count": 42,
   "metadata": {},
   "outputs": [
    {
     "data": {
      "text/plain": [
       "dict_items([('甲', 100), ('乙', 80), ('丙', 70), ('丁', 60), ('戊', 30)])"
      ]
     },
     "execution_count": 42,
     "metadata": {},
     "output_type": "execute_result"
    }
   ],
   "source": [
    "# items 得到字典內所有的 組\n",
    "a.items()"
   ]
  },
  {
   "cell_type": "code",
   "execution_count": 43,
   "metadata": {},
   "outputs": [
    {
     "data": {
      "text/plain": [
       "dict_keys(['甲', '乙', '丙', '丁', '戊'])"
      ]
     },
     "execution_count": 43,
     "metadata": {},
     "output_type": "execute_result"
    }
   ],
   "source": [
    "# keys 得到字典內所有的 key \n",
    "# 也可以轉換成 list\n",
    "a.keys()"
   ]
  },
  {
   "cell_type": "code",
   "execution_count": 46,
   "metadata": {},
   "outputs": [
    {
     "name": "stdout",
     "output_type": "stream",
     "text": [
      "True\n",
      "False\n"
     ]
    }
   ],
   "source": [
    "# 也可以使用 in 來查詢字典內有沒有該 key\n",
    "print('甲' in a)\n",
    "\n",
    "print('己' in a)"
   ]
  },
  {
   "cell_type": "code",
   "execution_count": null,
   "metadata": {},
   "outputs": [],
   "source": [
    "自己創建一個字典  包含甲乙丙丁戊 五個人\n",
    "幫我找出 乙 拿了幾分\n",
    "幫我找出 庚 這個人有沒有在你的 dict 裡面\n",
    "幫我算出這五人的平均分數"
   ]
  },
  {
   "cell_type": "code",
   "execution_count": 11,
   "metadata": {},
   "outputs": [
    {
     "name": "stdout",
     "output_type": "stream",
     "text": [
      "68.0\n"
     ]
    }
   ],
   "source": [
    "print(sum(list(a.values())) / 5)"
   ]
  },
  {
   "cell_type": "markdown",
   "metadata": {},
   "source": [
    "## 如何定義函式 def\n",
    "def 自定義名稱(需要那些參數輸入): <br>\n",
    "    動作"
   ]
  },
  {
   "cell_type": "code",
   "execution_count": 48,
   "metadata": {},
   "outputs": [
    {
     "name": "stdout",
     "output_type": "stream",
     "text": [
      "我的第一個函式\n"
     ]
    }
   ],
   "source": [
    "def first_fun():\n",
    "    print('我的第一個函式')\n",
    "first_fun()"
   ]
  },
  {
   "cell_type": "code",
   "execution_count": 49,
   "metadata": {},
   "outputs": [
    {
     "name": "stdout",
     "output_type": "stream",
     "text": [
      "我的第二個函式\n"
     ]
    }
   ],
   "source": [
    "# 試著放一些參數進去給他\n",
    "def second_fun(x):\n",
    "    print(x)\n",
    "\n",
    "a = '我的第二個函式'\n",
    "second_fun(a)"
   ]
  },
  {
   "cell_type": "code",
   "execution_count": 50,
   "metadata": {},
   "outputs": [
    {
     "name": "stdout",
     "output_type": "stream",
     "text": [
      "這是第一行\n",
      "這是第二行\n"
     ]
    }
   ],
   "source": [
    "# 多放一點試試看呢?\n",
    "def third_fun(y,z):\n",
    "    print(y)\n",
    "    print(z)\n",
    "    \n",
    "a = '這是第一行'\n",
    "b = '這是第二行'\n",
    "\n",
    "third_fun(a,b)"
   ]
  },
  {
   "cell_type": "code",
   "execution_count": 53,
   "metadata": {},
   "outputs": [
    {
     "name": "stdout",
     "output_type": "stream",
     "text": [
      "0\n",
      "0\n",
      "5\n",
      "2\n"
     ]
    }
   ],
   "source": [
    "# 自我遞迴函式\n",
    "\n",
    "def forth_fun():\n",
    "    a = random.randint(0,5)\n",
    "    \n",
    "    if a != 2:\n",
    "        print(a)\n",
    "        forth_fun()\n",
    "    else:\n",
    "        print(a)\n",
    "    \n",
    "forth_fun()"
   ]
  },
  {
   "cell_type": "code",
   "execution_count": 55,
   "metadata": {},
   "outputs": [
    {
     "name": "stdout",
     "output_type": "stream",
     "text": [
      "5\n",
      "0\n",
      "4\n",
      "2\n"
     ]
    }
   ],
   "source": [
    "# 你也可以利用while來達成這件事情\n",
    "\n",
    "def fifth_fun():\n",
    "    while 1 :\n",
    "        a = random.randint(0,5)\n",
    "        print(a)\n",
    "        if a != 2:\n",
    "            continue\n",
    "        else:\n",
    "            break\n",
    "            \n",
    "fifth_fun()"
   ]
  },
  {
   "cell_type": "code",
   "execution_count": 12,
   "metadata": {},
   "outputs": [
    {
     "name": "stdout",
     "output_type": "stream",
     "text": [
      "24.0\n"
     ]
    }
   ],
   "source": [
    "# 通常利用函式來縮減你的主程式碼長度  維持版面乾淨\n",
    "\n",
    "def calculate_triangle_area(bottom, height):\n",
    "    area = bottom * height / 2\n",
    "    return area\n",
    "\n",
    "test = calculate_triangle_area(8,6)\n",
    "print(test)"
   ]
  },
  {
   "cell_type": "code",
   "execution_count": 60,
   "metadata": {},
   "outputs": [
    {
     "data": {
      "text/plain": [
       "36.0"
      ]
     },
     "execution_count": 60,
     "metadata": {},
     "output_type": "execute_result"
    }
   ],
   "source": [
    "# 有時為了避免少輸入值導致錯誤  可以設定預設值給他\n",
    "# 但記得有預設值的參數要擺在最後面  否則會出錯\n",
    "def calculate_triangle_area_2(height, bottom = 12):\n",
    "    area = bottom * height / 2\n",
    "    return area\n",
    "\n",
    "calculate_triangle_area_2(height = 6)"
   ]
  },
  {
   "cell_type": "code",
   "execution_count": 15,
   "metadata": {},
   "outputs": [
    {
     "name": "stdout",
     "output_type": "stream",
     "text": [
      "[36.0, 12]\n"
     ]
    }
   ],
   "source": [
    "# 有時為了避免少輸入值導致錯誤  可以設定預設值給他\n",
    "# 但記得有預設值的參數要擺在最後面  否則會出錯\n",
    "def calculate_triangle_area_2(height, bottom = 12):\n",
    "    area = bottom * height / 2\n",
    "    return list([area, bottom])\n",
    "\n",
    "a = calculate_triangle_area_2(height = 6)\n",
    "print(a)\n"
   ]
  }
 ],
 "metadata": {
  "kernelspec": {
   "display_name": "Python 3",
   "language": "python",
   "name": "python3"
  },
  "language_info": {
   "codemirror_mode": {
    "name": "ipython",
    "version": 3
   },
   "file_extension": ".py",
   "mimetype": "text/x-python",
   "name": "python",
   "nbconvert_exporter": "python",
   "pygments_lexer": "ipython3",
   "version": "3.6.5"
  }
 },
 "nbformat": 4,
 "nbformat_minor": 2
}
