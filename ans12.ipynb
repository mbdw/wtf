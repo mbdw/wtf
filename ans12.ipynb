{
 "cells": [
  {
   "cell_type": "code",
   "execution_count": 20,
   "metadata": {},
   "outputs": [
    {
     "data": {
      "text/plain": [
       "'United States?(USA) [P] [Q] [R] [Z]'"
      ]
     },
     "execution_count": 20,
     "metadata": {},
     "output_type": "execute_result"
    }
   ],
   "source": [
    "def answer21():\n",
    "#import data\n",
    "    import csv\n",
    "    file_name = \"E:/WORKOUT/Statistic/data_sciense_intro/hw1/olympics.csv\"\n",
    "    olympics = open(file_name, 'r')\n",
    "    csvCursor = csv.reader(olympics)\n",
    "    data = []\n",
    "    for row in csvCursor:\n",
    "        data.append(row)\n",
    "    olympics.close()\n",
    "\n",
    "    num_summer_metal = []\n",
    "    max_index = []\n",
    "    max_country = []\n",
    "#store all summer gold metals numbers of each country in list num_summer_metal\n",
    "    for i in range(2, len(data),1):\n",
    "        num_summer_metal.append(data[i][2])\n",
    "\n",
    "#find the max one in list num_summer_metal\n",
    "#return ans\n",
    "    max_index = num_summer_metal.index(max(num_summer_metal))\n",
    "    max_country = data[max_index+2][0]\n",
    "    return(max_country)\n",
    "    \n",
    "answer21()"
   ]
  },
  {
   "cell_type": "code",
   "execution_count": 22,
   "metadata": {},
   "outputs": [
    {
     "data": {
      "text/plain": [
       "'United States?(USA) [P] [Q] [R] [Z]'"
      ]
     },
     "execution_count": 22,
     "metadata": {},
     "output_type": "execute_result"
    }
   ],
   "source": [
    "def answer22():\n",
    "#import data\n",
    "    import csv\n",
    "    file_name = \"E:/WORKOUT/Statistic/data_sciense_intro/hw1/olympics.csv\"\n",
    "    olympics = open(file_name, 'r')\n",
    "    csvCursor = csv.reader(olympics)\n",
    "    data = []\n",
    "    for row in csvCursor:\n",
    "        data.append(row)\n",
    "    olympics.close()\n",
    "    \n",
    "    num_metal =[]\n",
    "    max_index = []\n",
    "    max_country = []\n",
    "\n",
    "#subtract summer gold metal counts with winter gold metal counts of each country\n",
    "#store them in list num_metal\n",
    "    for i in range(2, len(data)-1,1):\n",
    "        num_metal.append(abs(int(data[i][2]) - int(data[i][7])))\n",
    "#find the max one in list num_metal\n",
    "    max_index = num_metal.index(max(num_metal))\n",
    "    max_country = data[max_index+2][0]\n",
    "    return(max_country)\n",
    "\n",
    "answer22()"
   ]
  },
  {
   "cell_type": "code",
   "execution_count": 29,
   "metadata": {},
   "outputs": [
    {
     "data": {
      "text/plain": [
       "'Bulgaria?(BUL) [H]'"
      ]
     },
     "execution_count": 29,
     "metadata": {},
     "output_type": "execute_result"
    }
   ],
   "source": [
    "def answer23():\n",
    "#import data\n",
    "    import csv\n",
    "    file_name = \"E:/WORKOUT/Statistic/data_sciense_intro/hw1/olympics.csv\"\n",
    "    olympics = open(file_name, 'r')\n",
    "    csvCursor = csv.reader(olympics)\n",
    "    data = []\n",
    "    for row in csvCursor:\n",
    "        data.append(row)\n",
    "    olympics.close()\n",
    "    \n",
    "    num_metal =[]\n",
    "    max_index = []\n",
    "    max_country = []\n",
    "#if the country has both at least one metal in summer and winter olympics\n",
    "#subtract summer gold metal counts with winter gold metal counts of each country\n",
    "#divide them by total gold metal counts of each country\n",
    "#store the result in num_metal\n",
    "#if the country don't\n",
    "#store 0 in the list instead\n",
    "    for i in range(2, len(data)-1, 1):\n",
    "        if int(data[i][2]) > 0 and int(data[i][7]) > 0:\n",
    "            num_metal.append(abs(int(data[i][2]) - int(data[i][7])) / int(data[i][12]))\n",
    "        else:\n",
    "            num_metal.append(0)\n",
    "#find the max one in list num_metal\n",
    "#return the ans\n",
    "    max_index = num_metal.index(max(num_metal))\n",
    "    max_country = data[max_index+2][0]\n",
    "    return(max_country)\n",
    "\n",
    "answer23()\n",
    "    "
   ]
  }
 ],
 "metadata": {
  "kernelspec": {
   "display_name": "Python 3",
   "language": "python",
   "name": "python3"
  },
  "language_info": {
   "codemirror_mode": {
    "name": "ipython",
    "version": 3
   },
   "file_extension": ".py",
   "mimetype": "text/x-python",
   "name": "python",
   "nbconvert_exporter": "python",
   "pygments_lexer": "ipython3",
   "version": "3.6.6"
  }
 },
 "nbformat": 4,
 "nbformat_minor": 2
}
