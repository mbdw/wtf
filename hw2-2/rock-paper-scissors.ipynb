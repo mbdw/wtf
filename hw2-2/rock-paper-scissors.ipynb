{
 "cells": [
  {
   "cell_type": "markdown",
   "metadata": {},
   "source": [
    "## 作業4\n",
    "1. 2p功能與電腦對戰\n",
    "2. 計分功能\n",
    "3. 計算分數與結束遊戲"
   ]
  },
  {
   "cell_type": "code",
   "execution_count": 3,
   "metadata": {},
   "outputs": [],
   "source": [
    "import pandas as pd\n",
    "import numpy as np\n",
    "import ipywidgets as wg\n",
    "import os\n",
    "from IPython.display import clear_output"
   ]
  },
  {
   "cell_type": "code",
   "execution_count": 4,
   "metadata": {},
   "outputs": [],
   "source": [
    "def two_player_input():\n",
    "    input_p1 = input(['玩家 1 請選擇: 剪刀 = 1, 石頭 = 2, 布 = 3'])\n",
    "    input_p2 = input(['玩家 1 請選擇: 剪刀 = 1, 石頭 = 2, 布 = 3'])\n",
    "    \n",
    "    return input_p1, input_p2"
   ]
  },
  {
   "cell_type": "code",
   "execution_count": 5,
   "metadata": {},
   "outputs": [],
   "source": [
    "def win_lose_judge(input_1, input_2):\n",
    "    if input_1 == 1:\n",
    "        if input_2 == 1:\n",
    "            return [0,0]\n",
    "        elif input_2 == 2:\n",
    "            return [0,1]\n",
    "        elif input_2 == 3:\n",
    "            return [1,0]\n",
    "    elif input_1 == 2:\n",
    "        if input_2 == 1:\n",
    "            return[1,0]\n",
    "        elif input_2 == 2:\n",
    "            return[0,0]\n",
    "        elif input_3 == 3:\n",
    "            return[0,1]\n",
    "    elif input_1 == 3:\n",
    "        if input_2 == 1:\n",
    "            return[0,1]\n",
    "        elif input_2 == 2:\n",
    "            return[1,0]\n",
    "        elif input_2 == 3:\n",
    "            return[0,0]"
   ]
  },
  {
   "cell_type": "code",
   "execution_count": null,
   "metadata": {},
   "outputs": [
    {
     "name": "stdout",
     "output_type": "stream",
     "text": [
      "['請選擇2P或COM : 2P = 1 , COM = 2, 離開 = 0']2\n",
      "['請輸入遊玩回數: ']2\n",
      "not yet\n",
      "not yet\n",
      "['請選擇2P或COM : 2P = 1 , COM = 2, 離開 = 0']2\n",
      "['請輸入遊玩回數: ']2\n",
      "not yet\n",
      "not yet\n",
      "['請選擇2P或COM : 2P = 1 , COM = 2, 離開 = 0']2\n",
      "['請輸入遊玩回數: ']2\n",
      "not yet\n",
      "not yet\n",
      "['請選擇2P或COM : 2P = 1 , COM = 2, 離開 = 0']2\n",
      "['請輸入遊玩回數: ']2\n",
      "not yet\n",
      "not yet\n"
     ]
    }
   ],
   "source": [
    "# main\n",
    "while 1:\n",
    "    mode_chose = int(input(['請選擇2P或COM : 2P = 1 , COM = 2, 離開 = 0']))\n",
    "    \n",
    "    if mode_chose == 0:\n",
    "        break\n",
    "    \n",
    "    round_input = int(input(['請輸入遊玩回數: ']))\n",
    "    score = [0,0]\n",
    "    \n",
    "    for i in range(round_input):\n",
    "        if mode_chose == 1:\n",
    "            clear_output()\n",
    "            print('當前模式: 2P')\n",
    "            print('選擇遊玩回數 : ' + str(round_input))\n",
    "            print('目前比數 : ' + str(score[0]) + ' : ' + str(score[1]))\n",
    "            input_p1, input_p2 = two_player_input()\n",
    "            win_lose = win_lose_judge(input_p1, input_p2)\n",
    "        \n",
    "            if win_lose == [0,0]:\n",
    "                print('平手!')\n",
    "            elif win_lose == [1,0]:\n",
    "                print('玩家 1 勝利!')\n",
    "                score[0] = score[0] + 1\n",
    "            elif win_lose == [0,1]:\n",
    "                print('玩家 2 勝利!')\n",
    "                score[1] = score[1] + 1\n",
    "            \n",
    "        elif mode_chose == 2:\n",
    "            print('not yet')"
   ]
  }
 ],
 "metadata": {
  "kernelspec": {
   "display_name": "Python 3",
   "language": "python",
   "name": "python3"
  },
  "language_info": {
   "codemirror_mode": {
    "name": "ipython",
    "version": 3
   },
   "file_extension": ".py",
   "mimetype": "text/x-python",
   "name": "python",
   "nbconvert_exporter": "python",
   "pygments_lexer": "ipython3",
   "version": "3.6.5"
  }
 },
 "nbformat": 4,
 "nbformat_minor": 2
}
