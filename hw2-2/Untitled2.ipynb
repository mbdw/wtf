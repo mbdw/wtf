{
 "cells": [
  {
   "cell_type": "code",
   "execution_count": 3,
   "metadata": {},
   "outputs": [
    {
     "name": "stdout",
     "output_type": "stream",
     "text": [
      "------------------------------------\n",
      "剪刀石頭布\n",
      "------------------------------------\n",
      "['請選擇:剪刀=1,石頭=2,布=3']1\n",
      "平手\n"
     ]
    }
   ],
   "source": [
    "import random\n",
    "win_lose = []\n",
    "def begin():\n",
    "    print('------------------------------------')\n",
    "    print('剪刀石頭布')\n",
    "    print('------------------------------------')\n",
    "begin()\n",
    "\n",
    "def player_input():\n",
    "    global input_p1\n",
    "    input_p1 = int(input(['請選擇:剪刀=1,石頭=2,布=3']))\n",
    "    global input_p2\n",
    "    input_p2 = (random.randint(1,3))\n",
    "    \n",
    "def judge(input_1,input_2):\n",
    "    if input_1 == 1:   \n",
    "        if input_2 == 1:\n",
    "            win_lose = [0,0]\n",
    "        elif input_2 == 2:\n",
    "            win_lose = [0,1]\n",
    "        elif input_2 == 3:\n",
    "            win_lose = [1,0]\n",
    "    elif  input_1 == 2:   \n",
    "        if input_2 == 1:\n",
    "            win_lose = [1,0]\n",
    "        elif input_2 == 2:\n",
    "            win_lose = [0,0]\n",
    "        elif input_2 == 3:\n",
    "            win_lose = [0,1] \n",
    "    elif  input_1 == 3:   \n",
    "        if input_2 == 1:\n",
    "            win_lose = [0,1]\n",
    "        elif input_2 == 2:\n",
    "            win_lose = [1,0]\n",
    "        elif input_2 == 3:\n",
    "            win_lose = [0,0]\n",
    "    return win_lose\n",
    "\n",
    "\n",
    "\n",
    "player_input()\n",
    "win_lose=judge(input_p1, input_p2)\n",
    "if win_lose == [0,0]:\n",
    "    print('平手')\n",
    "elif win_lose == [1,0]:\n",
    "    print('你贏了')\n",
    "elif win_lose == [0,1]:\n",
    "    print('雷包你輸了')\n",
    "    \n",
    "\n",
    "    \n",
    "    "
   ]
  }
 ],
 "metadata": {
  "kernelspec": {
   "display_name": "Python 3",
   "language": "python",
   "name": "python3"
  },
  "language_info": {
   "codemirror_mode": {
    "name": "ipython",
    "version": 3
   },
   "file_extension": ".py",
   "mimetype": "text/x-python",
   "name": "python",
   "nbconvert_exporter": "python",
   "pygments_lexer": "ipython3",
   "version": "3.6.5"
  }
 },
 "nbformat": 4,
 "nbformat_minor": 2
}
