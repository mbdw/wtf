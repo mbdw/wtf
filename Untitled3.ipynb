{
 "cells": [
  {
   "cell_type": "code",
   "execution_count": null,
   "metadata": {},
   "outputs": [],
   "source": [
    "import random\n",
    "a = [random.randint(0,99) for i in range(20)]\n",
    "print(a)\n",
    "print(len(a))"
   ]
  },
  {
   "cell_type": "code",
   "execution_count": 10,
   "metadata": {},
   "outputs": [
    {
     "name": "stdout",
     "output_type": "stream",
     "text": [
      "wwwwww\n",
      "A try expect test\n"
     ]
    }
   ],
   "source": [
    "a = \"test\"\n",
    "try:\n",
    "    print(int(a))\n",
    "except:\n",
    "    print('wwwwww')\n",
    "finally:\n",
    "    print('A try expect test')"
   ]
  },
  {
   "cell_type": "code",
   "execution_count": 17,
   "metadata": {},
   "outputs": [
    {
     "name": "stdout",
     "output_type": "stream",
     "text": [
      "['請輸入數字']1\n",
      "['請輸入數字']a\n",
      "媽的請輸入數值\n"
     ]
    }
   ],
   "source": [
    "try:\n",
    "    a = int(input(['請輸入數字']))\n",
    "    b = int(input(['請輸入數字']))\n",
    "    r = a / b\n",
    "    print(\"r=\",r)\n",
    "except ValueError:\n",
    "    print(\"媽的請輸入數值\")\n",
    "except ZeroDivisionError:\n",
    "    print(\"分母不為零\")\n",
    "    "
   ]
  },
  {
   "cell_type": "code",
   "execution_count": 19,
   "metadata": {},
   "outputs": [
    {
     "name": "stdout",
     "output_type": "stream",
     "text": [
      "25.0\n",
      "25.0\n"
     ]
    }
   ],
   "source": [
    "weight=10\n",
    "height=20\n",
    "def gg():\n",
    "    global weight\n",
    "    weight=5\n",
    "    global height\n",
    "    height=10\n",
    "    print(weight*height/2)\n",
    "gg()\n",
    "print(weight*height/2)"
   ]
  }
 ],
 "metadata": {
  "kernelspec": {
   "display_name": "Python 3",
   "language": "python",
   "name": "python3"
  },
  "language_info": {
   "codemirror_mode": {
    "name": "ipython",
    "version": 3
   },
   "file_extension": ".py",
   "mimetype": "text/x-python",
   "name": "python",
   "nbconvert_exporter": "python",
   "pygments_lexer": "ipython3",
   "version": "3.6.5"
  }
 },
 "nbformat": 4,
 "nbformat_minor": 2
}
