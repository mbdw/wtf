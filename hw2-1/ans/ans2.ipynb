{
 "cells": [
  {
   "cell_type": "code",
   "execution_count": 99,
   "metadata": {},
   "outputs": [
    {
     "name": "stdout",
     "output_type": "stream",
     "text": [
      "United States?(USA) [P] [Q] [R] [Z]\n"
     ]
    }
   ],
   "source": [
    "import pandas as pd\n",
    "\n",
    "def answer21():\n",
    "#import data 'olympics' and tranfer it to dataframe\n",
    "    file_name = \"data/olympics.csv\"\n",
    "    data = pd.read_csv(file_name, header = 1)\n",
    "    df = pd.DataFrame(data)\n",
    "#sort the dataframe by summer gold metals\n",
    "#print the top element from the sorted dataframe\n",
    "    df = df.sort_values(by = '1', ascending=False)\n",
    "    print(df.iloc[1,0])\n",
    "    \n",
    "answer21()"
   ]
  },
  {
   "cell_type": "code",
   "execution_count": 45,
   "metadata": {},
   "outputs": [
    {
     "name": "stdout",
     "output_type": "stream",
     "text": [
      "United States?(USA) [P] [Q] [R] [Z]\n"
     ]
    }
   ],
   "source": [
    "def answer22():\n",
    "#import data 'olympics' and tranfer it to dataframe\n",
    "    file_name = \"data/olympics.csv\"\n",
    "    data = pd.read_csv(file_name, header = [0,1])\n",
    "    df = pd.DataFrame(data)\n",
    "    df = df[:-1]\n",
    "#subtract summer gold metal counts with winter gold metal counts and store in gold_subtract\n",
    "#find and print the max one in the gold_subtract\n",
    "    gold_subtract = abs(df.loc[:,'2'] - df.loc[:,'7'])\n",
    "    pos = int(gold_subtract.idxmax())\n",
    "    print(df.iloc[pos,0])\n",
    "\n",
    "answer22()"
   ]
  },
  {
   "cell_type": "code",
   "execution_count": 98,
   "metadata": {},
   "outputs": [
    {
     "name": "stdout",
     "output_type": "stream",
     "text": [
      "Bulgaria?(BUL) [H]\n"
     ]
    }
   ],
   "source": [
    "def answer23():\n",
    "#import data 'olympics' and tranfer it to dataframe\n",
    "    file_name = \"data/olympics.csv\"\n",
    "    data = pd.read_csv(file_name, header = [0,1], index_col = 0)\n",
    "    df = pd.DataFrame(data)\n",
    "    df = df[:-1]\n",
    "#find countries that have won at least 1 gold in both summer and winter\n",
    "    df_27 = (df['2'] > 0) & (df['7'] > 0)\n",
    "#calculate the ratio between the difference of summer gold metals and winter gold metals \n",
    "# and total gold metals\n",
    "#find and print the max one\n",
    "    df_2712 = (abs(df['2'][df_27] - df['7'][df_27])) / (df['12'][df_27])\n",
    "    pos = list(df_2712.idxmax())\n",
    "    print(pos[0])\n",
    "    \n",
    "answer23()"
   ]
  }
 ],
 "metadata": {
  "kernelspec": {
   "display_name": "Python 3",
   "language": "python",
   "name": "python3"
  },
  "language_info": {
   "codemirror_mode": {
    "name": "ipython",
    "version": 3
   },
   "file_extension": ".py",
   "mimetype": "text/x-python",
   "name": "python",
   "nbconvert_exporter": "python",
   "pygments_lexer": "ipython3",
   "version": "3.6.5"
  }
 },
 "nbformat": 4,
 "nbformat_minor": 2
}
