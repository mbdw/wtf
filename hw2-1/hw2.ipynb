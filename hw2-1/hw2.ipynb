{
 "cells": [
  {
   "cell_type": "markdown",
   "metadata": {},
   "source": [
    "## 作業2\n",
    "這次的作業跟作業 1 的題目完全一模一樣，但你們必須使用 pandas 這個 package 內的函式來完成你們的作業。思維跟作業 1 的提示都一樣，只是想想你們該怎麼簡單套用 pandas 來實現他。若是真的想不出來，可以參考 ans2.ipynb"
   ]
  },
  {
   "cell_type": "markdown",
   "metadata": {},
   "source": [
    "你可能會用到的函式如下：\n",
    "+ pandas.sort_values( ) -> 排序用\n",
    "+ pandas.idxmax( ) -> 找出有最大值的索引\n",
    "+ pandas.iloc[ ] -> 找出該位置的值"
   ]
  },
  {
   "cell_type": "code",
   "execution_count": 99,
   "metadata": {},
   "outputs": [
    {
     "name": "stdout",
     "output_type": "stream",
     "text": [
      "United States?(USA) [P] [Q] [R] [Z]\n"
     ]
    }
   ],
   "source": [
    "import pandas as pd\n",
    "\n",
    "def answer21():\n",
    "# 讀入資料已經幫你們寫好了\n",
    "    file_name = \"data/olympics.csv\"\n",
    "    data = pd.read_csv(file_name, header = 1)\n",
    "    df = pd.DataFrame(data)\n",
    "    \n",
    "    \n",
    "# 請將程式碼寫在這\n",
    "# 這題可以 「只利用兩行」 達成喔，試試看吧 ! (甚至可以一行 !)\n",
    "    df = df.sort_values(by = '1', ascending=False)\n",
    "    print(df.iloc[1,0])\n",
    "    \n",
    "answer21()"
   ]
  },
  {
   "cell_type": "code",
   "execution_count": 45,
   "metadata": {},
   "outputs": [
    {
     "name": "stdout",
     "output_type": "stream",
     "text": [
      "United States?(USA) [P] [Q] [R] [Z]\n"
     ]
    }
   ],
   "source": [
    "def answer22():\n",
    "    file_name = \"data/olympics.csv\"\n",
    "    data = pd.read_csv(file_name, header = [0,1])\n",
    "    df = pd.DataFrame(data)\n",
    "    df = df[:-1]\n",
    "\n",
    "# 請將程式碼寫在這\n",
    "# 這題可以 「只利用三行」 達成喔，試試看吧 ! \n",
    "    gold_subtract = abs(df.loc[:,'2'] - df.loc[:,'7'])\n",
    "    pos = int(gold_subtract.idxmax())\n",
    "    print(df.iloc[pos,0])\n",
    "\n",
    "answer22()"
   ]
  },
  {
   "cell_type": "code",
   "execution_count": 98,
   "metadata": {},
   "outputs": [
    {
     "name": "stdout",
     "output_type": "stream",
     "text": [
      "Bulgaria?(BUL) [H]\n"
     ]
    }
   ],
   "source": [
    "def answer23():\n",
    "#import data 'olympics' and tranfer it to dataframe\n",
    "    file_name = \"data/olympics.csv\"\n",
    "    data = pd.read_csv(file_name, header = [0,1], index_col = 0)\n",
    "    df = pd.DataFrame(data)\n",
    "    df = df[:-1]\n",
    "    \n",
    "    \n",
    "# 請將程式碼寫在這\n",
    "# 這題可以 「只利用四行」 達成喔，試試看吧 ! \n",
    "    \n",
    "answer23()"
   ]
  }
 ],
 "metadata": {
  "kernelspec": {
   "display_name": "Python 3",
   "language": "python",
   "name": "python3"
  },
  "language_info": {
   "codemirror_mode": {
    "name": "ipython",
    "version": 3
   },
   "file_extension": ".py",
   "mimetype": "text/x-python",
   "name": "python",
   "nbconvert_exporter": "python",
   "pygments_lexer": "ipython3",
   "version": "3.6.5"
  }
 },
 "nbformat": 4,
 "nbformat_minor": 2
}
